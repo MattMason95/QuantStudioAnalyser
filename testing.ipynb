{
 "cells": [
  {
   "cell_type": "code",
   "execution_count": 4,
   "metadata": {},
   "outputs": [
    {
     "name": "stderr",
     "output_type": "stream",
     "text": [
      "INFO: {\n",
      "  \"operation\": \"file_read\",\n",
      "  \"file_info\": {\n",
      "    \"filename\": \"testing_data.xls\",\n",
      "    \"size_bytes\": 23552,\n",
      "    \"full_path\": \"c:\\\\Users\\\\mmaso\\\\OneDrive\\\\Python_Directory\\\\QuantStudio_analyser\\\\testing_data.xls\",\n",
      "    \"hash\": \"03bd4887dba19e6a6a01e0bcb71ce491\",\n",
      "    \"modified_time\": 1737372020.0\n",
      "  },\n",
      "  \"extra_details\": {\n",
      "    \"file_extension\": \".xls\"\n",
      "  }\n",
      "}\n",
      "INFO: {\n",
      "  \"operation\": \"file_read\",\n",
      "  \"file_info\": {\n",
      "    \"filename\": \"testing_data.xls\",\n",
      "    \"size_bytes\": 23552,\n",
      "    \"full_path\": \"c:\\\\Users\\\\mmaso\\\\OneDrive\\\\Python_Directory\\\\QuantStudio_analyser\\\\testing_data.xls\",\n",
      "    \"hash\": \"03bd4887dba19e6a6a01e0bcb71ce491\",\n",
      "    \"modified_time\": 1737372020.0\n",
      "  },\n",
      "  \"extra_details\": {\n",
      "    \"file_extension\": \".xls\"\n",
      "  }\n",
      "}\n",
      "INFO: {\n",
      "  \"operation\": \"file_read\",\n",
      "  \"file_info\": {\n",
      "    \"filename\": \"testing_data.xls\",\n",
      "    \"size_bytes\": 23552,\n",
      "    \"full_path\": \"c:\\\\Users\\\\mmaso\\\\OneDrive\\\\Python_Directory\\\\QuantStudio_analyser\\\\testing_data.xls\",\n",
      "    \"hash\": \"03bd4887dba19e6a6a01e0bcb71ce491\",\n",
      "    \"modified_time\": 1737372020.0\n",
      "  },\n",
      "  \"extra_details\": {\n",
      "    \"file_extension\": \".xls\"\n",
      "  }\n",
      "}\n",
      "INFO: {\n",
      "  \"operation\": \"file_read\",\n",
      "  \"file_info\": {\n",
      "    \"filename\": \"testing_data.xls\",\n",
      "    \"size_bytes\": 23552,\n",
      "    \"full_path\": \"c:\\\\Users\\\\mmaso\\\\OneDrive\\\\Python_Directory\\\\QuantStudio_analyser\\\\testing_data.xls\",\n",
      "    \"hash\": \"03bd4887dba19e6a6a01e0bcb71ce491\",\n",
      "    \"modified_time\": 1737372020.0\n",
      "  },\n",
      "  \"extra_details\": {\n",
      "    \"file_extension\": \".xls\"\n",
      "  }\n",
      "}\n"
     ]
    },
    {
     "name": "stdout",
     "output_type": "stream",
     "text": [
      "                           \n",
      "##### Data loaded. #####\n",
      "                           \n"
     ]
    }
   ],
   "source": [
    "## Import DataProcessor class\n",
    "## Test data loading\n",
    "from preprocessing import DataProcessor\n",
    "\n",
    "## Instantiate DataProcessor with test data\n",
    "method = DataProcessor(data='testing_data.xls')\n",
    "\n"
   ]
  },
  {
   "cell_type": "code",
   "execution_count": 3,
   "metadata": {},
   "outputs": [
    {
     "name": "stdout",
     "output_type": "stream",
     "text": [
      "                           \n",
      "##### Data loaded. #####\n",
      "                           \n",
      "None\n",
      "                      \n",
      "##### Starting data parsing. #####\n",
      "                      \n",
      "Input data has columns: ['Well Position', 'Sample Name', 'Target Name', 'CT', 'Ct Threshold', 'Tm1']. There are 0 unexpected column(s): [].\n",
      "Input data has 2 unique targets: ['Beta-Globin', 'Telomere'].\n",
      "Input data has 6 unique samples: ['C57_1', 'C57_2', 'C57_3', 'P301S_1', 'P301S_2', 'P301S_3'].\n",
      "                           \n",
      "##### User Inputs. #####\n",
      "                           \n",
      "Control gene(s): globin.\n",
      "Control condition(s): c57.\n",
      "\n",
      "................................................................................ \n",
      "\n",
      "Control gene identified: Beta-Globin.\n",
      "Control condition identified: C57.\n",
      "                     \n",
      "##### Completed data parsing. #####\n",
      "                      \n",
      "None\n"
     ]
    },
    {
     "ename": "NameError",
     "evalue": "name 'question' is not defined",
     "output_type": "error",
     "traceback": [
      "\u001b[1;31m---------------------------------------------------------------------------\u001b[0m",
      "\u001b[1;31mNameError\u001b[0m                                 Traceback (most recent call last)",
      "\u001b[1;32m~\\AppData\\Local\\Temp/ipykernel_24420/2098630827.py\u001b[0m in \u001b[0;36m<module>\u001b[1;34m\u001b[0m\n\u001b[0;32m     10\u001b[0m \u001b[0mprint\u001b[0m\u001b[1;33m(\u001b[0m\u001b[0mmethod\u001b[0m\u001b[1;33m.\u001b[0m\u001b[0mmanifest\u001b[0m\u001b[1;33m)\u001b[0m\u001b[1;33m\u001b[0m\u001b[1;33m\u001b[0m\u001b[0m\n\u001b[0;32m     11\u001b[0m \u001b[1;33m\u001b[0m\u001b[0m\n\u001b[1;32m---> 12\u001b[1;33m \u001b[0mparsed_data\u001b[0m\u001b[1;33m.\u001b[0m\u001b[0mfile_info\u001b[0m\u001b[1;33m[\u001b[0m\u001b[0mquestion\u001b[0m\u001b[1;33m]\u001b[0m\u001b[1;33m\u001b[0m\u001b[1;33m\u001b[0m\u001b[0m\n\u001b[0m",
      "\u001b[1;31mNameError\u001b[0m: name 'question' is not defined"
     ]
    }
   ],
   "source": [
    "## Test data parsing\n",
    "## Parsing data from the source file\n",
    "## Check that manifest updates\n",
    "method = DataProcessor(data='testing_data.xls')\n",
    "\n",
    "print(method.manifest)\n",
    "\n",
    "parsed_data = method.Parser()\n",
    " \n",
    "print(method.manifest)\n",
    "\n",
    "parsed_data.file_info[question]\n"
   ]
  },
  {
   "cell_type": "code",
   "execution_count": 9,
   "metadata": {},
   "outputs": [
    {
     "name": "stdout",
     "output_type": "stream",
     "text": [
      "missing\n"
     ]
    }
   ],
   "source": [
    "required = parsed_data.file_info['operation']\n",
    "\n",
    "registration = ['loaded']\n",
    "\n",
    "if [x for x in required if x not in registration]:\n",
    "    print('missing')"
   ]
  },
  {
   "cell_type": "code",
   "execution_count": 10,
   "metadata": {},
   "outputs": [
    {
     "name": "stdout",
     "output_type": "stream",
     "text": [
      "                           \n",
      "##### Data loaded. #####\n",
      "                           \n",
      "                      \n",
      "##### Starting data parsing. #####\n",
      "                      \n",
      "Input data has columns: ['Well Position', 'Sample Name', 'Target Name', 'CT', 'Ct Threshold', 'Tm1']. There are 0 unexpected column(s): [].\n",
      "Input data has 2 unique targets: ['Beta-Globin', 'Telomere'].\n",
      "Input data has 6 unique samples: ['C57_1', 'C57_2', 'C57_3', 'P301S_1', 'P301S_2', 'P301S_3'].\n",
      "                           \n",
      "##### User Inputs. #####\n",
      "                           \n",
      "Control gene(s): globin.\n",
      "Control condition(s): c57.\n",
      "\n",
      "................................................................................ \n",
      "\n",
      "Control gene identified: Beta-Globin.\n",
      "Control condition identified: C57.\n",
      "                     \n",
      "##### Completed data parsing. #####\n",
      "                      \n"
     ]
    },
    {
     "data": {
      "text/html": [
       "<div>\n",
       "<style scoped>\n",
       "    .dataframe tbody tr th:only-of-type {\n",
       "        vertical-align: middle;\n",
       "    }\n",
       "\n",
       "    .dataframe tbody tr th {\n",
       "        vertical-align: top;\n",
       "    }\n",
       "\n",
       "    .dataframe thead th {\n",
       "        text-align: right;\n",
       "    }\n",
       "</style>\n",
       "<table border=\"1\" class=\"dataframe\">\n",
       "  <thead>\n",
       "    <tr style=\"text-align: right;\">\n",
       "      <th></th>\n",
       "      <th>Well Position</th>\n",
       "      <th>Sample Name</th>\n",
       "      <th>Target Name</th>\n",
       "      <th>CT</th>\n",
       "      <th>Ct Threshold</th>\n",
       "      <th>Tm1</th>\n",
       "      <th>TargetType</th>\n",
       "      <th>Condition</th>\n",
       "    </tr>\n",
       "  </thead>\n",
       "  <tbody>\n",
       "    <tr>\n",
       "      <th>0</th>\n",
       "      <td>A1</td>\n",
       "      <td>C57_1</td>\n",
       "      <td>Beta-Globin</td>\n",
       "      <td>24.034065</td>\n",
       "      <td>0.346627</td>\n",
       "      <td>82.112595</td>\n",
       "      <td>Control</td>\n",
       "      <td>Control</td>\n",
       "    </tr>\n",
       "    <tr>\n",
       "      <th>1</th>\n",
       "      <td>A2</td>\n",
       "      <td>C57_1</td>\n",
       "      <td>Beta-Globin</td>\n",
       "      <td>24.040785</td>\n",
       "      <td>0.346627</td>\n",
       "      <td>82.112595</td>\n",
       "      <td>Control</td>\n",
       "      <td>Control</td>\n",
       "    </tr>\n",
       "    <tr>\n",
       "      <th>2</th>\n",
       "      <td>A3</td>\n",
       "      <td>C57_1</td>\n",
       "      <td>Beta-Globin</td>\n",
       "      <td>23.937206</td>\n",
       "      <td>0.346627</td>\n",
       "      <td>82.112595</td>\n",
       "      <td>Control</td>\n",
       "      <td>Control</td>\n",
       "    </tr>\n",
       "    <tr>\n",
       "      <th>3</th>\n",
       "      <td>B1</td>\n",
       "      <td>C57_2</td>\n",
       "      <td>Beta-Globin</td>\n",
       "      <td>24.433340</td>\n",
       "      <td>0.346627</td>\n",
       "      <td>81.981210</td>\n",
       "      <td>Control</td>\n",
       "      <td>Control</td>\n",
       "    </tr>\n",
       "    <tr>\n",
       "      <th>4</th>\n",
       "      <td>B2</td>\n",
       "      <td>C57_2</td>\n",
       "      <td>Beta-Globin</td>\n",
       "      <td>23.819801</td>\n",
       "      <td>0.346627</td>\n",
       "      <td>81.981210</td>\n",
       "      <td>Control</td>\n",
       "      <td>Control</td>\n",
       "    </tr>\n",
       "  </tbody>\n",
       "</table>\n",
       "</div>"
      ],
      "text/plain": [
       "  Well Position Sample Name  Target Name         CT  Ct Threshold        Tm1  \\\n",
       "0            A1       C57_1  Beta-Globin  24.034065      0.346627  82.112595   \n",
       "1            A2       C57_1  Beta-Globin  24.040785      0.346627  82.112595   \n",
       "2            A3       C57_1  Beta-Globin  23.937206      0.346627  82.112595   \n",
       "3            B1       C57_2  Beta-Globin  24.433340      0.346627  81.981210   \n",
       "4            B2       C57_2  Beta-Globin  23.819801      0.346627  81.981210   \n",
       "\n",
       "  TargetType Condition  \n",
       "0    Control   Control  \n",
       "1    Control   Control  \n",
       "2    Control   Control  \n",
       "3    Control   Control  \n",
       "4    Control   Control  "
      ]
     },
     "execution_count": 10,
     "metadata": {},
     "output_type": "execute_result"
    }
   ],
   "source": [
    "## Test data parsing\n",
    "## Parsing data from a pre-loaded dataframe\n",
    "my_data = method.data\n",
    "\n",
    "DataProcessor(data=my_data).Parser().head(5)"
   ]
  },
  {
   "cell_type": "code",
   "execution_count": null,
   "metadata": {},
   "outputs": [
    {
     "name": "stdout",
     "output_type": "stream",
     "text": [
      "                           \n",
      "##### Data loaded. #####\n",
      "                           \n",
      "                      \n",
      "##### Starting data parsing. #####\n",
      "                      \n",
      "Input data has columns: ['Well Position', 'Sample Name', 'Target Name', 'CT', 'Ct Threshold', 'Tm1']. There are 0 unexpected column(s): [].\n",
      "Input data has 2 unique targets: ['Beta-Globin', 'Telomere'].\n",
      "Input data has 6 unique samples: ['C57_1', 'C57_2', 'C57_3', 'P301S_1', 'P301S_2', 'P301S_3'].\n",
      "                           \n",
      "##### User Inputs. #####\n",
      "                           \n",
      "Control gene(s): globin.\n",
      "Control condition(s): c57.\n",
      "\n",
      "................................................................................ \n",
      "\n",
      "Control gene identified: Beta-Globin.\n",
      "Control condition identified: C57.\n",
      "                     \n",
      "##### Completed data parsing. #####\n",
      "                      \n",
      "                     \n",
      "##### Starting data cleaning. #####\n",
      "                      \n",
      "Outlying data detected at indices: [0, 3, 5, 7]. Culling rows.\n",
      "Compiling reports from DataCleaning.\n",
      "Stored outlier reports in DataProcessor().reports_data.\n"
     ]
    },
    {
     "data": {
      "text/html": [
       "<div>\n",
       "<style scoped>\n",
       "    .dataframe tbody tr th:only-of-type {\n",
       "        vertical-align: middle;\n",
       "    }\n",
       "\n",
       "    .dataframe tbody tr th {\n",
       "        vertical-align: top;\n",
       "    }\n",
       "\n",
       "    .dataframe thead th {\n",
       "        text-align: right;\n",
       "    }\n",
       "</style>\n",
       "<table border=\"1\" class=\"dataframe\">\n",
       "  <thead>\n",
       "    <tr style=\"text-align: right;\">\n",
       "      <th></th>\n",
       "      <th>Well Position</th>\n",
       "      <th>Sample Name</th>\n",
       "      <th>Target Name</th>\n",
       "      <th>CT</th>\n",
       "      <th>Ct Threshold</th>\n",
       "      <th>Tm1</th>\n",
       "      <th>TargetType</th>\n",
       "      <th>Condition</th>\n",
       "      <th>dCT</th>\n",
       "      <th>ddCT</th>\n",
       "      <th>2^(-ddCT)</th>\n",
       "      <th>Tm1DeviationFromMedian</th>\n",
       "      <th>CtDeviationFromMedian</th>\n",
       "    </tr>\n",
       "  </thead>\n",
       "  <tbody>\n",
       "    <tr>\n",
       "      <th>0</th>\n",
       "      <td>A1</td>\n",
       "      <td>C57_1</td>\n",
       "      <td>Beta-Globin</td>\n",
       "      <td>24.034065</td>\n",
       "      <td>0.346627</td>\n",
       "      <td>82.112595</td>\n",
       "      <td>Control</td>\n",
       "      <td>Control</td>\n",
       "      <td>-0.078583</td>\n",
       "      <td>0.078583</td>\n",
       "      <td>0.946987</td>\n",
       "      <td>0.000000</td>\n",
       "      <td>0.324992</td>\n",
       "    </tr>\n",
       "    <tr>\n",
       "      <th>3</th>\n",
       "      <td>B1</td>\n",
       "      <td>C57_2</td>\n",
       "      <td>Beta-Globin</td>\n",
       "      <td>24.433340</td>\n",
       "      <td>0.346627</td>\n",
       "      <td>81.981210</td>\n",
       "      <td>Control</td>\n",
       "      <td>Control</td>\n",
       "      <td>-0.477858</td>\n",
       "      <td>0.477858</td>\n",
       "      <td>0.718043</td>\n",
       "      <td>2.337581</td>\n",
       "      <td>1.631809</td>\n",
       "    </tr>\n",
       "    <tr>\n",
       "      <th>5</th>\n",
       "      <td>B3</td>\n",
       "      <td>C57_2</td>\n",
       "      <td>Beta-Globin</td>\n",
       "      <td>23.387491</td>\n",
       "      <td>0.346627</td>\n",
       "      <td>81.981210</td>\n",
       "      <td>Control</td>\n",
       "      <td>Control</td>\n",
       "      <td>0.567991</td>\n",
       "      <td>-0.567991</td>\n",
       "      <td>1.482458</td>\n",
       "      <td>2.337581</td>\n",
       "      <td>1.791229</td>\n",
       "    </tr>\n",
       "    <tr>\n",
       "      <th>7</th>\n",
       "      <td>C2</td>\n",
       "      <td>C57_3</td>\n",
       "      <td>Beta-Globin</td>\n",
       "      <td>23.985012</td>\n",
       "      <td>0.346627</td>\n",
       "      <td>82.112595</td>\n",
       "      <td>Control</td>\n",
       "      <td>Control</td>\n",
       "      <td>-0.029530</td>\n",
       "      <td>0.029530</td>\n",
       "      <td>0.979740</td>\n",
       "      <td>0.000000</td>\n",
       "      <td>0.164442</td>\n",
       "    </tr>\n",
       "  </tbody>\n",
       "</table>\n",
       "</div>"
      ],
      "text/plain": [
       "  Well Position Sample Name  Target Name         CT  Ct Threshold        Tm1  \\\n",
       "0            A1       C57_1  Beta-Globin  24.034065      0.346627  82.112595   \n",
       "3            B1       C57_2  Beta-Globin  24.433340      0.346627  81.981210   \n",
       "5            B3       C57_2  Beta-Globin  23.387491      0.346627  81.981210   \n",
       "7            C2       C57_3  Beta-Globin  23.985012      0.346627  82.112595   \n",
       "\n",
       "  TargetType Condition       dCT      ddCT  2^(-ddCT)  Tm1DeviationFromMedian  \\\n",
       "0    Control   Control -0.078583  0.078583   0.946987                0.000000   \n",
       "3    Control   Control -0.477858  0.477858   0.718043                2.337581   \n",
       "5    Control   Control  0.567991 -0.567991   1.482458                2.337581   \n",
       "7    Control   Control -0.029530  0.029530   0.979740                0.000000   \n",
       "\n",
       "   CtDeviationFromMedian  \n",
       "0               0.324992  \n",
       "3               1.631809  \n",
       "5               1.791229  \n",
       "7               0.164442  "
      ]
     },
     "execution_count": 1,
     "metadata": {},
     "output_type": "execute_result"
    },
    {
     "data": {
      "image/png": "[encoded data removed]",
      "text/plain": [
       "<Figure size 576x576 with 4 Axes>"
      ]
     },
     "metadata": {
      "needs_background": "light"
     },
     "output_type": "display_data"
    }
   ],
   "source": [
    "## Test ddctCalculation from filepath\n",
    "## Demonstrating logging of outlier data from reports_data\n",
    "from preprocessing import DataProcessor\n",
    "\n",
    "method = DataProcessor(data='testing_data.xls')\n",
    "\n",
    "clean_data = method.ddctCalculation(correction=True)\n",
    "\n",
    "method.reports_data"
   ]
  },
  {
   "cell_type": "code",
   "execution_count": 34,
   "metadata": {},
   "outputs": [
    {
     "name": "stdout",
     "output_type": "stream",
     "text": [
      "03bd4887dba19e6a6a01e0bcb71ce491\n"
     ]
    }
   ],
   "source": [
    "import hashlib\n",
    "\n",
    "filepath = 'testing_data.xls'\n",
    "\n",
    "with open(filepath, 'rb') as f: \n",
    "    test = hashlib.md5(f.read()).hexdigest()\n",
    "    print(test)"
   ]
  },
  {
   "cell_type": "code",
   "execution_count": 35,
   "metadata": {},
   "outputs": [
    {
     "name": "stdout",
     "output_type": "stream",
     "text": [
      "03bd4887dba19e6a6a01e0bcb71ce491\n"
     ]
    }
   ],
   "source": [
    "import hashlib\n",
    "\n",
    "filepath = 'copied_data.xls'\n",
    "\n",
    "with open(filepath, 'rb') as f: \n",
    "    test = hashlib.md5(f.read()).hexdigest()\n",
    "    print(test)"
   ]
  },
  {
   "cell_type": "code",
   "execution_count": 15,
   "metadata": {},
   "outputs": [
    {
     "name": "stdout",
     "output_type": "stream",
     "text": [
      "5\n"
     ]
    },
    {
     "ename": "NameError",
     "evalue": "name 'func' is not defined",
     "output_type": "error",
     "traceback": [
      "\u001b[1;31m---------------------------------------------------------------------------\u001b[0m",
      "\u001b[1;31mNameError\u001b[0m                                 Traceback (most recent call last)",
      "\u001b[1;32m~\\AppData\\Local\\Temp/ipykernel_30936/4104460630.py\u001b[0m in \u001b[0;36m<module>\u001b[1;34m\u001b[0m\n\u001b[0;32m      4\u001b[0m     \u001b[0mprint\u001b[0m\u001b[1;33m(\u001b[0m\u001b[0mfunc\u001b[0m\u001b[1;33m.\u001b[0m\u001b[0m__name__\u001b[0m\u001b[1;33m)\u001b[0m\u001b[1;33m\u001b[0m\u001b[1;33m\u001b[0m\u001b[0m\n\u001b[0;32m      5\u001b[0m \u001b[1;33m\u001b[0m\u001b[0m\n\u001b[1;32m----> 6\u001b[1;33m \u001b[0mmyfunc\u001b[0m\u001b[1;33m(\u001b[0m\u001b[0mx\u001b[0m\u001b[1;33m=\u001b[0m\u001b[1;36m2\u001b[0m\u001b[1;33m)\u001b[0m\u001b[1;33m\u001b[0m\u001b[1;33m\u001b[0m\u001b[0m\n\u001b[0m",
      "\u001b[1;32m~\\AppData\\Local\\Temp/ipykernel_30936/4104460630.py\u001b[0m in \u001b[0;36mmyfunc\u001b[1;34m(x)\u001b[0m\n\u001b[0;32m      2\u001b[0m     \u001b[0mx\u001b[0m \u001b[1;33m=\u001b[0m \u001b[0mx\u001b[0m\u001b[1;33m+\u001b[0m\u001b[1;36m3\u001b[0m\u001b[1;33m\u001b[0m\u001b[1;33m\u001b[0m\u001b[0m\n\u001b[0;32m      3\u001b[0m     \u001b[0mprint\u001b[0m\u001b[1;33m(\u001b[0m\u001b[0mx\u001b[0m\u001b[1;33m)\u001b[0m\u001b[1;33m\u001b[0m\u001b[1;33m\u001b[0m\u001b[0m\n\u001b[1;32m----> 4\u001b[1;33m     \u001b[0mprint\u001b[0m\u001b[1;33m(\u001b[0m\u001b[0mfunc\u001b[0m\u001b[1;33m.\u001b[0m\u001b[0m__name__\u001b[0m\u001b[1;33m)\u001b[0m\u001b[1;33m\u001b[0m\u001b[1;33m\u001b[0m\u001b[0m\n\u001b[0m\u001b[0;32m      5\u001b[0m \u001b[1;33m\u001b[0m\u001b[0m\n\u001b[0;32m      6\u001b[0m \u001b[0mmyfunc\u001b[0m\u001b[1;33m(\u001b[0m\u001b[0mx\u001b[0m\u001b[1;33m=\u001b[0m\u001b[1;36m2\u001b[0m\u001b[1;33m)\u001b[0m\u001b[1;33m\u001b[0m\u001b[1;33m\u001b[0m\u001b[0m\n",
      "\u001b[1;31mNameError\u001b[0m: name 'func' is not defined"
     ]
    }
   ],
   "source": []
  }
 ],
 "metadata": {
  "kernelspec": {
   "display_name": "base",
   "language": "python",
   "name": "python3"
  },
  "language_info": {
   "codemirror_mode": {
    "name": "ipython",
    "version": 3
   },
   "file_extension": ".py",
   "mimetype": "text/x-python",
   "name": "python",
   "nbconvert_exporter": "python",
   "pygments_lexer": "ipython3",
   "version": "3.8.12"
  }
 },
 "nbformat": 4,
 "nbformat_minor": 2
}
